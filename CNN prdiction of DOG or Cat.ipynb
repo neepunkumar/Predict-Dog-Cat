{
 "cells": [
  {
   "cell_type": "markdown",
   "metadata": {},
   "source": [
    "# Convulation Neural Network"
   ]
  },
  {
   "cell_type": "markdown",
   "metadata": {},
   "source": [
    "## Importing the libraries"
   ]
  },
  {
   "cell_type": "code",
   "execution_count": 1,
   "metadata": {},
   "outputs": [
    {
     "name": "stderr",
     "output_type": "stream",
     "text": [
      "Using TensorFlow backend.\n"
     ]
    }
   ],
   "source": [
    "import tensorflow as tf\n",
    "from keras.preprocessing.image import ImageDataGenerator"
   ]
  },
  {
   "cell_type": "code",
   "execution_count": 2,
   "metadata": {},
   "outputs": [
    {
     "data": {
      "text/plain": [
       "'2.1.0'"
      ]
     },
     "execution_count": 2,
     "metadata": {},
     "output_type": "execute_result"
    }
   ],
   "source": [
    "tf.__version__"
   ]
  },
  {
   "cell_type": "markdown",
   "metadata": {},
   "source": [
    "# Part1-Data Preprocessing"
   ]
  },
  {
   "cell_type": "markdown",
   "metadata": {},
   "source": [
    "## Preprocessing the Training Set"
   ]
  },
  {
   "cell_type": "code",
   "execution_count": 5,
   "metadata": {},
   "outputs": [
    {
     "name": "stdout",
     "output_type": "stream",
     "text": [
      "Found 8000 images belonging to 2 classes.\n"
     ]
    }
   ],
   "source": [
    "train_datagen = ImageDataGenerator(\n",
    "          rescale = 1./255,\n",
    "          shear_range= 0.2,\n",
    "          zoom_range=0.2,\n",
    "          horizontal_flip=True)\n",
    "training_set = train_datagen.flow_from_directory(\n",
    "           'dataset/training_set',\n",
    "            target_size = (64,64),\n",
    "            batch_size = 32,\n",
    "            class_mode = 'binary')"
   ]
  },
  {
   "cell_type": "markdown",
   "metadata": {},
   "source": [
    "## Preprocessing the Test Set"
   ]
  },
  {
   "cell_type": "code",
   "execution_count": 6,
   "metadata": {},
   "outputs": [
    {
     "name": "stdout",
     "output_type": "stream",
     "text": [
      "Found 2000 images belonging to 2 classes.\n"
     ]
    }
   ],
   "source": [
    "test_datagen = ImageDataGenerator(rescale=1./255)\n",
    "test_set = test_datagen.flow_from_directory(\n",
    "          'dataset/test_set',\n",
    "           target_size=(64,64),\n",
    "           batch_size = 32,\n",
    "           class_mode = 'binary')"
   ]
  },
  {
   "cell_type": "markdown",
   "metadata": {},
   "source": [
    "# Building the CNN"
   ]
  },
  {
   "cell_type": "markdown",
   "metadata": {},
   "source": [
    "## Initializing the CNN"
   ]
  },
  {
   "cell_type": "code",
   "execution_count": 7,
   "metadata": {},
   "outputs": [],
   "source": [
    "cnn = tf.keras.models.Sequential()"
   ]
  },
  {
   "cell_type": "markdown",
   "metadata": {},
   "source": [
    "### Step 1 -Convulation"
   ]
  },
  {
   "cell_type": "code",
   "execution_count": 8,
   "metadata": {},
   "outputs": [],
   "source": [
    "cnn.add(tf.keras.layers.Conv2D(filters=32, kernel_size= 3, activation = 'relu' , input_shape = [64,64,3]))"
   ]
  },
  {
   "cell_type": "markdown",
   "metadata": {},
   "source": [
    "### Pooling"
   ]
  },
  {
   "cell_type": "code",
   "execution_count": 9,
   "metadata": {},
   "outputs": [],
   "source": [
    "cnn.add(tf.keras.layers.MaxPool2D(pool_size=2, strides = 2))"
   ]
  },
  {
   "cell_type": "markdown",
   "metadata": {},
   "source": [
    "### Adding a second convulation layer"
   ]
  },
  {
   "cell_type": "code",
   "execution_count": 10,
   "metadata": {},
   "outputs": [],
   "source": [
    "cnn.add(tf.keras.layers.Conv2D(filters=32, kernel_size= 3, activation = 'relu'))\n",
    "cnn.add(tf.keras.layers.MaxPool2D(pool_size=2, strides = 2))"
   ]
  },
  {
   "cell_type": "markdown",
   "metadata": {},
   "source": [
    "### Flattening"
   ]
  },
  {
   "cell_type": "code",
   "execution_count": 11,
   "metadata": {},
   "outputs": [],
   "source": [
    "cnn.add(tf.keras.layers.Flatten())"
   ]
  },
  {
   "cell_type": "markdown",
   "metadata": {},
   "source": [
    "### Full Conncetion"
   ]
  },
  {
   "cell_type": "code",
   "execution_count": 12,
   "metadata": {},
   "outputs": [],
   "source": [
    "cnn.add(tf.keras.layers.Dense(units = 128, activation = 'relu'))"
   ]
  },
  {
   "cell_type": "markdown",
   "metadata": {},
   "source": [
    "### Output Layer"
   ]
  },
  {
   "cell_type": "code",
   "execution_count": 13,
   "metadata": {},
   "outputs": [],
   "source": [
    "cnn.add(tf.keras.layers.Dense(units= 1, activation = 'sigmoid'))"
   ]
  },
  {
   "cell_type": "markdown",
   "metadata": {},
   "source": [
    "# Training the CNN"
   ]
  },
  {
   "cell_type": "markdown",
   "metadata": {},
   "source": [
    "## Compiling the CNN"
   ]
  },
  {
   "cell_type": "code",
   "execution_count": 16,
   "metadata": {},
   "outputs": [],
   "source": [
    "cnn.compile(optimizer = 'adam',loss = 'binary_crossentropy',metrics= ['accuracy'])"
   ]
  },
  {
   "cell_type": "markdown",
   "metadata": {},
   "source": [
    "## Training the CNN on the Training Set and evaluating it on the Test Set"
   ]
  },
  {
   "cell_type": "code",
   "execution_count": 17,
   "metadata": {},
   "outputs": [
    {
     "name": "stdout",
     "output_type": "stream",
     "text": [
      "WARNING:tensorflow:sample_weight modes were coerced from\n",
      "  ...\n",
      "    to  \n",
      "  ['...']\n",
      "WARNING:tensorflow:sample_weight modes were coerced from\n",
      "  ...\n",
      "    to  \n",
      "  ['...']\n",
      "Train for 250 steps, validate for 63 steps\n",
      "Epoch 1/25\n",
      "250/250 [==============================] - 222s 890ms/step - loss: 0.6772 - accuracy: 0.5769 - val_loss: 0.6363 - val_accuracy: 0.6330\n",
      "Epoch 2/25\n",
      "250/250 [==============================] - 110s 440ms/step - loss: 0.6210 - accuracy: 0.6575 - val_loss: 0.5690 - val_accuracy: 0.7085\n",
      "Epoch 3/25\n",
      "250/250 [==============================] - 48s 192ms/step - loss: 0.5634 - accuracy: 0.7114 - val_loss: 0.5211 - val_accuracy: 0.7360\n",
      "Epoch 4/25\n",
      "250/250 [==============================] - 49s 197ms/step - loss: 0.5328 - accuracy: 0.7325 - val_loss: 0.5153 - val_accuracy: 0.7580\n",
      "Epoch 5/25\n",
      "250/250 [==============================] - 49s 196ms/step - loss: 0.5074 - accuracy: 0.7465 - val_loss: 0.4926 - val_accuracy: 0.7610\n",
      "Epoch 6/25\n",
      "250/250 [==============================] - 53s 210ms/step - loss: 0.4870 - accuracy: 0.7640 - val_loss: 0.4836 - val_accuracy: 0.7745\n",
      "Epoch 7/25\n",
      "250/250 [==============================] - 49s 197ms/step - loss: 0.4596 - accuracy: 0.7835 - val_loss: 0.5263 - val_accuracy: 0.7440\n",
      "Epoch 8/25\n",
      "250/250 [==============================] - 49s 196ms/step - loss: 0.4394 - accuracy: 0.7944 - val_loss: 0.4632 - val_accuracy: 0.7875\n",
      "Epoch 9/25\n",
      "250/250 [==============================] - 50s 199ms/step - loss: 0.4379 - accuracy: 0.7980 - val_loss: 0.4420 - val_accuracy: 0.7935\n",
      "Epoch 10/25\n",
      "250/250 [==============================] - 50s 199ms/step - loss: 0.4168 - accuracy: 0.8100 - val_loss: 0.4619 - val_accuracy: 0.7885\n",
      "Epoch 11/25\n",
      "250/250 [==============================] - 49s 197ms/step - loss: 0.4010 - accuracy: 0.8170 - val_loss: 0.4771 - val_accuracy: 0.7870\n",
      "Epoch 12/25\n",
      "250/250 [==============================] - 50s 199ms/step - loss: 0.3853 - accuracy: 0.8261 - val_loss: 0.4859 - val_accuracy: 0.7660\n",
      "Epoch 13/25\n",
      "250/250 [==============================] - 51s 202ms/step - loss: 0.3714 - accuracy: 0.8311 - val_loss: 0.4786 - val_accuracy: 0.7945\n",
      "Epoch 14/25\n",
      "250/250 [==============================] - 49s 197ms/step - loss: 0.3583 - accuracy: 0.8361 - val_loss: 0.4871 - val_accuracy: 0.7845\n",
      "Epoch 15/25\n",
      "250/250 [==============================] - 49s 197ms/step - loss: 0.3361 - accuracy: 0.8497 - val_loss: 0.4569 - val_accuracy: 0.7985\n",
      "Epoch 16/25\n",
      "250/250 [==============================] - 49s 197ms/step - loss: 0.3267 - accuracy: 0.8547 - val_loss: 0.4473 - val_accuracy: 0.8125\n",
      "Epoch 17/25\n",
      "250/250 [==============================] - 83s 331ms/step - loss: 0.3145 - accuracy: 0.8659 - val_loss: 0.4785 - val_accuracy: 0.7910\n",
      "Epoch 18/25\n",
      "250/250 [==============================] - 153s 612ms/step - loss: 0.3006 - accuracy: 0.8689 - val_loss: 0.4608 - val_accuracy: 0.8130\n",
      "Epoch 19/25\n",
      "250/250 [==============================] - 158s 634ms/step - loss: 0.2741 - accuracy: 0.8821 - val_loss: 0.5045 - val_accuracy: 0.7905\n",
      "Epoch 20/25\n",
      "250/250 [==============================] - 51s 205ms/step - loss: 0.2688 - accuracy: 0.8825 - val_loss: 0.5140 - val_accuracy: 0.7980\n",
      "Epoch 21/25\n",
      "250/250 [==============================] - 52s 207ms/step - loss: 0.2507 - accuracy: 0.8969 - val_loss: 0.4998 - val_accuracy: 0.8030\n",
      "Epoch 22/25\n",
      "250/250 [==============================] - 60s 239ms/step - loss: 0.2376 - accuracy: 0.9030 - val_loss: 0.4928 - val_accuracy: 0.8080\n",
      "Epoch 23/25\n",
      "250/250 [==============================] - 58s 232ms/step - loss: 0.2239 - accuracy: 0.9079 - val_loss: 0.5177 - val_accuracy: 0.8005\n",
      "Epoch 24/25\n",
      "250/250 [==============================] - 56s 224ms/step - loss: 0.2034 - accuracy: 0.9176 - val_loss: 0.5456 - val_accuracy: 0.7930\n",
      "Epoch 25/25\n",
      "250/250 [==============================] - 53s 212ms/step - loss: 0.1971 - accuracy: 0.9185 - val_loss: 0.5434 - val_accuracy: 0.7955\n"
     ]
    },
    {
     "data": {
      "text/plain": [
       "<tensorflow.python.keras.callbacks.History at 0x26748da7248>"
      ]
     },
     "execution_count": 17,
     "metadata": {},
     "output_type": "execute_result"
    }
   ],
   "source": [
    "cnn.fit(x = training_set, validation_data = test_set, epochs = 25)"
   ]
  },
  {
   "cell_type": "markdown",
   "metadata": {},
   "source": [
    "## Making  a single prediction"
   ]
  },
  {
   "cell_type": "code",
   "execution_count": 18,
   "metadata": {},
   "outputs": [],
   "source": [
    "import numpy as np"
   ]
  },
  {
   "cell_type": "code",
   "execution_count": 21,
   "metadata": {},
   "outputs": [],
   "source": [
    "from keras.preprocessing import image\n",
    "test_image = image.load_img('dataset/single_prediction/cat_or_dog_1.jpg',target_size = (64,64))\n",
    "test_image = image.img_to_array(test_image)\n",
    "test_image = np.expand_dims(test_image, axis = 0)\n",
    "result = cnn.predict(test_image)\n",
    "training_set.class_indices\n",
    "if result[0][0] == 1:\n",
    "  prediction = 'dog'\n",
    "else:\n",
    "  prediction = 'cat'\n",
    "    "
   ]
  },
  {
   "cell_type": "code",
   "execution_count": 22,
   "metadata": {},
   "outputs": [
    {
     "name": "stdout",
     "output_type": "stream",
     "text": [
      "dog\n"
     ]
    }
   ],
   "source": [
    "print(prediction)"
   ]
  },
  {
   "cell_type": "code",
   "execution_count": null,
   "metadata": {},
   "outputs": [],
   "source": []
  }
 ],
 "metadata": {
  "kernelspec": {
   "display_name": "Python 3",
   "language": "python",
   "name": "python3"
  },
  "language_info": {
   "codemirror_mode": {
    "name": "ipython",
    "version": 3
   },
   "file_extension": ".py",
   "mimetype": "text/x-python",
   "name": "python",
   "nbconvert_exporter": "python",
   "pygments_lexer": "ipython3",
   "version": "3.7.4"
  }
 },
 "nbformat": 4,
 "nbformat_minor": 2
}
